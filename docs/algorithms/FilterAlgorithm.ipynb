{
 "cells": [
  {
   "cell_type": "code",
   "execution_count": 1,
   "metadata": {},
   "outputs": [],
   "source": [
    "from geomagio.edge import EdgeFactory\n",
    "from geomagio.algorithm import Algorithm\n",
    "from obspy.core import UTCDateTime, Stream,  Stats\n",
    "import numpy as np\n",
    "import scipy as sp\n",
    "import scipy.linalg as spl\n",
    "import scipy.signal as sps\n",
    "import matplotlib.pyplot as pl\n",
    "import datetime as dt\n",
    "import json"
   ]
  },
  {
   "cell_type": "code",
   "execution_count": 2,
   "metadata": {},
   "outputs": [],
   "source": [
    "class FilterAlgorithm(Algorithm):\n",
    "    \"\"\"Filter Algorithm\"\"\""
   ]
  },
  {
   "cell_type": "code",
   "execution_count": 2,
   "metadata": {},
   "outputs": [],
   "source": [
    "# excerpted from https://github.com/scipy/scipy/issues/7725#issuecomment-322094749\n",
    "sample_rate = 10.0\n",
    "cutoff = 0.2\n",
    "width = 0.3\n",
    "stop_db = 50.0\n",
    "stop_db = np.abs(stop_db)\n",
    "\n",
    "# Convert to normalized frequencies\n",
    "nyq = 0.5*sample_rate\n",
    "cutoff = cutoff / nyq\n",
    "width = width / nyq\n",
    "\n",
    "numtaps, beta = sps.kaiserord(ripple=stop_db, width=width)\n",
    "numtaps |= 1\n",
    "taps = sps.firwin(numtaps, cutoff, window=('kaiser', beta), scale=False)"
   ]
  },
  {
   "cell_type": "code",
   "execution_count": 3,
   "metadata": {},
   "outputs": [
    {
     "data": {
      "text/plain": [
       "99"
      ]
     },
     "execution_count": 3,
     "metadata": {},
     "output_type": "execute_result"
    }
   ],
   "source": [
    "numtaps"
   ]
  },
  {
   "cell_type": "code",
   "execution_count": 4,
   "metadata": {},
   "outputs": [
    {
     "data": {
      "text/plain": [
       "4.533514120981248"
      ]
     },
     "execution_count": 4,
     "metadata": {},
     "output_type": "execute_result"
    }
   ],
   "source": [
    "beta"
   ]
  },
  {
   "cell_type": "code",
   "execution_count": 5,
   "metadata": {},
   "outputs": [
    {
     "data": {
      "text/plain": [
       "array([-4.52198796e-05, -1.11619355e-04, -2.01483397e-04, -3.16506684e-04,\n",
       "       -4.57626335e-04, -6.24859943e-04, -8.17155093e-04, -1.03225668e-03,\n",
       "       -1.26659826e-03, -1.51522326e-03, -1.77174156e-03, -2.02832596e-03,\n",
       "       -2.27575221e-03, -2.50348516e-03, -2.69981225e-03, -2.85202413e-03,\n",
       "       -2.94664077e-03, -2.96967983e-03, -2.90696256e-03, -2.74445127e-03,\n",
       "       -2.46861053e-03, -2.06678395e-03, -1.52757659e-03, -8.41232992e-04,\n",
       "        8.97254861e-19,  1.00153625e-03,  2.16614984e-03,  3.49372106e-03,\n",
       "        4.98103797e-03,  6.62166161e-03,  8.40586129e-03,  1.03206248e-02,\n",
       "        1.23497468e-02,  1.44739951e-02,  1.66713562e-02,  1.89173528e-02,\n",
       "        2.11854322e-02,  2.34474143e-02,  2.56739920e-02,  2.78352727e-02,\n",
       "        2.99013480e-02,  3.18428788e-02,  3.36316814e-02,  3.52413005e-02,\n",
       "        3.66475558e-02,  3.78290461e-02,  3.87676015e-02,  3.94486690e-02,\n",
       "        3.98616244e-02,  4.00000000e-02,  3.98616244e-02,  3.94486690e-02,\n",
       "        3.87676015e-02,  3.78290461e-02,  3.66475558e-02,  3.52413005e-02,\n",
       "        3.36316814e-02,  3.18428788e-02,  2.99013480e-02,  2.78352727e-02,\n",
       "        2.56739920e-02,  2.34474143e-02,  2.11854322e-02,  1.89173528e-02,\n",
       "        1.66713562e-02,  1.44739951e-02,  1.23497468e-02,  1.03206248e-02,\n",
       "        8.40586129e-03,  6.62166161e-03,  4.98103797e-03,  3.49372106e-03,\n",
       "        2.16614984e-03,  1.00153625e-03,  8.97254861e-19, -8.41232992e-04,\n",
       "       -1.52757659e-03, -2.06678395e-03, -2.46861053e-03, -2.74445127e-03,\n",
       "       -2.90696256e-03, -2.96967983e-03, -2.94664077e-03, -2.85202413e-03,\n",
       "       -2.69981225e-03, -2.50348516e-03, -2.27575221e-03, -2.02832596e-03,\n",
       "       -1.77174156e-03, -1.51522326e-03, -1.26659826e-03, -1.03225668e-03,\n",
       "       -8.17155093e-04, -6.24859943e-04, -4.57626335e-04, -3.16506684e-04,\n",
       "       -2.01483397e-04, -1.11619355e-04, -4.52198796e-05])"
      ]
     },
     "execution_count": 5,
     "metadata": {},
     "output_type": "execute_result"
    }
   ],
   "source": [
    "taps"
   ]
  },
  {
   "cell_type": "code",
   "execution_count": 6,
   "metadata": {},
   "outputs": [
    {
     "data": {
      "text/plain": [
       "1.0034504636745052"
      ]
     },
     "execution_count": 6,
     "metadata": {},
     "output_type": "execute_result"
    }
   ],
   "source": [
    "sum(taps)"
   ]
  },
  {
   "cell_type": "code",
   "execution_count": 7,
   "metadata": {},
   "outputs": [],
   "source": [
    "taps=taps/sum(taps)"
   ]
  },
  {
   "cell_type": "code",
   "execution_count": 8,
   "metadata": {},
   "outputs": [
    {
     "data": {
      "text/plain": [
       "array([-4.50643866e-05, -1.11235541e-04, -2.00790576e-04, -3.15418344e-04,\n",
       "       -4.56052742e-04, -6.22711300e-04, -8.14345224e-04, -1.02870717e-03,\n",
       "       -1.26224294e-03, -1.51001301e-03, -1.76564925e-03, -2.02135136e-03,\n",
       "       -2.26792681e-03, -2.49487668e-03, -2.69052868e-03, -2.84221717e-03,\n",
       "       -2.93650846e-03, -2.95946829e-03, -2.89696669e-03, -2.73501420e-03,\n",
       "       -2.46012197e-03, -2.05967711e-03, -1.52232387e-03, -8.38340329e-04,\n",
       "        8.94169561e-19,  9.98092368e-04,  2.15870132e-03,  3.48170755e-03,\n",
       "        4.96391018e-03,  6.59889237e-03,  8.37695691e-03,  1.02851364e-02,\n",
       "        1.23072809e-02,  1.44242249e-02,  1.66140301e-02,  1.88523036e-02,\n",
       "        2.11125840e-02,  2.33667880e-02,  2.55857094e-02,  2.77395583e-02,\n",
       "        2.97985293e-02,  3.17333839e-02,  3.35160355e-02,  3.51201198e-02,\n",
       "        3.65215396e-02,  3.76989672e-02,  3.86342953e-02,  3.93130209e-02,\n",
       "        3.97245562e-02,  3.98624560e-02,  3.97245562e-02,  3.93130209e-02,\n",
       "        3.86342953e-02,  3.76989672e-02,  3.65215396e-02,  3.51201198e-02,\n",
       "        3.35160355e-02,  3.17333839e-02,  2.97985293e-02,  2.77395583e-02,\n",
       "        2.55857094e-02,  2.33667880e-02,  2.11125840e-02,  1.88523036e-02,\n",
       "        1.66140301e-02,  1.44242249e-02,  1.23072809e-02,  1.02851364e-02,\n",
       "        8.37695691e-03,  6.59889237e-03,  4.96391018e-03,  3.48170755e-03,\n",
       "        2.15870132e-03,  9.98092368e-04,  8.94169561e-19, -8.38340329e-04,\n",
       "       -1.52232387e-03, -2.05967711e-03, -2.46012197e-03, -2.73501420e-03,\n",
       "       -2.89696669e-03, -2.95946829e-03, -2.93650846e-03, -2.84221717e-03,\n",
       "       -2.69052868e-03, -2.49487668e-03, -2.26792681e-03, -2.02135136e-03,\n",
       "       -1.76564925e-03, -1.51001301e-03, -1.26224294e-03, -1.02870717e-03,\n",
       "       -8.14345224e-04, -6.22711300e-04, -4.56052742e-04, -3.15418344e-04,\n",
       "       -2.00790576e-04, -1.11235541e-04, -4.50643866e-05])"
      ]
     },
     "execution_count": 8,
     "metadata": {},
     "output_type": "execute_result"
    }
   ],
   "source": [
    "taps"
   ]
  },
  {
   "cell_type": "code",
   "execution_count": 9,
   "metadata": {},
   "outputs": [
    {
     "data": {
      "text/plain": [
       "[<matplotlib.lines.Line2D at 0x1c2452e080>]"
      ]
     },
     "execution_count": 9,
     "metadata": {},
     "output_type": "execute_result"
    },
    {
     "data": {
      "image/png": "[encoded data removed]",
      "text/plain": [
       "<Figure size 432x288 with 1 Axes>"
      ]
     },
     "metadata": {
      "needs_background": "light"
     },
     "output_type": "display_data"
    }
   ],
   "source": [
    "pl.plot(taps)"
   ]
  },
  {
   "cell_type": "code",
   "execution_count": 10,
   "metadata": {},
   "outputs": [
    {
     "ename": "NameError",
     "evalue": "name 'linspace' is not defined",
     "output_type": "error",
     "traceback": [
      "\u001b[0;31m---------------------------------------------------------------------------\u001b[0m",
      "\u001b[0;31mNameError\u001b[0m                                 Traceback (most recent call last)",
      "\u001b[0;32m<ipython-input-10-aa5ebe4e8c59>\u001b[0m in \u001b[0;36m<module>\u001b[0;34m()\u001b[0m\n\u001b[0;32m----> 1\u001b[0;31m \u001b[0mw\u001b[0m \u001b[0;34m=\u001b[0m \u001b[0mlinspace\u001b[0m\u001b[0;34m(\u001b[0m\u001b[0;36m0.0\u001b[0m\u001b[0;34m,\u001b[0m\u001b[0mnp\u001b[0m\u001b[0;34m.\u001b[0m\u001b[0mpi\u001b[0m\u001b[0;34m,\u001b[0m\u001b[0;36m512\u001b[0m\u001b[0;34m)\u001b[0m\u001b[0;34m\u001b[0m\u001b[0m\n\u001b[0m\u001b[1;32m      2\u001b[0m \u001b[0mgd_samples\u001b[0m \u001b[0;34m=\u001b[0m \u001b[0;34m(\u001b[0m\u001b[0mnumtaps\u001b[0m\u001b[0;34m/\u001b[0m\u001b[0;36m2\u001b[0m \u001b[0;34m-\u001b[0m \u001b[0;36m1\u001b[0m\u001b[0;34m)\u001b[0m\u001b[0;34m*\u001b[0m\u001b[0mones_like\u001b[0m\u001b[0;34m(\u001b[0m\u001b[0mw\u001b[0m\u001b[0;34m)\u001b[0m\u001b[0;34m\u001b[0m\u001b[0m\n\u001b[1;32m      3\u001b[0m \u001b[0mgd_time\u001b[0m \u001b[0;34m=\u001b[0m \u001b[0;34m(\u001b[0m\u001b[0mnumtaps\u001b[0m\u001b[0;34m/\u001b[0m\u001b[0;36m2\u001b[0m \u001b[0;34m-\u001b[0m \u001b[0;36m1\u001b[0m\u001b[0;34m)\u001b[0m\u001b[0;34m\u001b[0m\u001b[0m\n\u001b[1;32m      4\u001b[0m \u001b[0mgd_\u001b[0m\u001b[0;34m\u001b[0m\u001b[0m\n",
      "\u001b[0;31mNameError\u001b[0m: name 'linspace' is not defined"
     ]
    }
   ],
   "source": [
    "w = linspace(0.0,np.pi,512)\n",
    "gd_samples = (numtaps/2 - 1)*ones_like(w)\n",
    "gd_time = (numtaps/2 - 1)\n",
    "gd_"
   ]
  },
  {
   "cell_type": "code",
   "execution_count": 11,
   "metadata": {},
   "outputs": [],
   "source": [
    "a,b = sps.iirdesign(cutoff, cutoff+width, gpass=3.0, gstop=50.0, analog=False, ftype='butter')"
   ]
  },
  {
   "cell_type": "code",
   "execution_count": 12,
   "metadata": {},
   "outputs": [
    {
     "name": "stderr",
     "output_type": "stream",
     "text": [
      "/Users/aclaycomb/anaconda3/envs/geomagenv36/lib/python3.6/site-packages/scipy/signal/filter_design.py:536: UserWarning: The group delay is singular at frequencies [3.074, 3.080, 3.086, 3.093, 3.099, 3.105, 3.111, 3.117, 3.123, 3.129, 3.135], setting to 0\n",
      "  format(\", \".join(\"{0:.3f}\".format(ws) for ws in w[singular]))\n"
     ]
    }
   ],
   "source": [
    "w, gd = sps.group_delay((a,b))"
   ]
  },
  {
   "cell_type": "code",
   "execution_count": 13,
   "metadata": {},
   "outputs": [
    {
     "data": {
      "text/plain": [
       "<matplotlib.legend.Legend at 0x1c26ac06a0>"
      ]
     },
     "execution_count": 13,
     "metadata": {},
     "output_type": "execute_result"
    },
    {
     "data": {
      "image/png": "[encoded data removed]",
      "text/plain": [
       "<Figure size 432x288 with 1 Axes>"
      ]
     },
     "metadata": {
      "needs_background": "light"
     },
     "output_type": "display_data"
    }
   ],
   "source": [
    "pl.plot(w*sample_rate/2/np.pi, gd/sample_rate, w*sample_rate/2/np.pi, 0.01*np.ones_like(w))\n",
    "pl.xlabel('Frequency (Hz)')\n",
    "pl.ylabel('Group Delay (s)')\n",
    "pl.legend(('Butterworth Design', 'Intermagnet Requirement'))"
   ]
  },
  {
   "cell_type": "code",
   "execution_count": 14,
   "metadata": {},
   "outputs": [],
   "source": [
    "a,b = sps.iirdesign(cutoff, cutoff+width, gpass=3.0, gstop=50.0, analog=False, ftype='cheby1')"
   ]
  },
  {
   "cell_type": "code",
   "execution_count": 15,
   "metadata": {},
   "outputs": [
    {
     "name": "stderr",
     "output_type": "stream",
     "text": [
      "/Users/aclaycomb/anaconda3/envs/geomagenv36/lib/python3.6/site-packages/scipy/signal/filter_design.py:536: UserWarning: The group delay is singular at frequencies [3.129, 3.135], setting to 0\n",
      "  format(\", \".join(\"{0:.3f}\".format(ws) for ws in w[singular]))\n"
     ]
    }
   ],
   "source": [
    "w, gd = sps.group_delay((a,b))"
   ]
  },
  {
   "cell_type": "code",
   "execution_count": 16,
   "metadata": {},
   "outputs": [
    {
     "data": {
      "text/plain": [
       "<matplotlib.legend.Legend at 0x1c26b0d438>"
      ]
     },
     "execution_count": 16,
     "metadata": {},
     "output_type": "execute_result"
    },
    {
     "data": {
      "image/png": "[encoded data removed]",
      "text/plain": [
       "<Figure size 432x288 with 1 Axes>"
      ]
     },
     "metadata": {
      "needs_background": "light"
     },
     "output_type": "display_data"
    }
   ],
   "source": [
    "pl.plot(w*sample_rate/2/np.pi, gd/sample_rate, w*sample_rate/2/np.pi, 0.01*np.ones_like(w))\n",
    "pl.xlabel('Frequency (Hz)')\n",
    "pl.ylabel('Group Delay (s)')\n",
    "pl.legend(('Chebychev Type 1 Design', 'Intermagnet Requirement'))"
   ]
  },
  {
   "cell_type": "code",
   "execution_count": 17,
   "metadata": {},
   "outputs": [
    {
     "data": {
      "text/plain": [
       "<matplotlib.legend.Legend at 0x1c26bdec50>"
      ]
     },
     "execution_count": 17,
     "metadata": {},
     "output_type": "execute_result"
    },
    {
     "data": {
      "image/png": "[encoded data removed]",
      "text/plain": [
       "<Figure size 432x288 with 1 Axes>"
      ]
     },
     "metadata": {
      "needs_background": "light"
     },
     "output_type": "display_data"
    }
   ],
   "source": [
    "a,b = sps.iirdesign(cutoff, cutoff+width, gpass=3.0, gstop=50.0, analog=False, ftype='cheby2')\n",
    "w, gd = sps.group_delay((a,b))\n",
    "pl.plot(w*sample_rate/2/np.pi, gd/sample_rate, w*sample_rate/2/np.pi, 0.01*np.ones_like(w))\n",
    "pl.xlabel('Frequency (Hz)')\n",
    "pl.ylabel('Group Delay (s)')\n",
    "pl.legend(('Chebychev Type 2 Design', 'Intermagnet Requirement'))"
   ]
  },
  {
   "cell_type": "code",
   "execution_count": 18,
   "metadata": {},
   "outputs": [
    {
     "data": {
      "text/plain": [
       "[<matplotlib.lines.Line2D at 0x1c26d319e8>]"
      ]
     },
     "execution_count": 18,
     "metadata": {},
     "output_type": "execute_result"
    },
    {
     "data": {
      "image/png": "[encoded data removed]",
      "text/plain": [
       "<Figure size 432x288 with 1 Axes>"
      ]
     },
     "metadata": {
      "needs_background": "light"
     },
     "output_type": "display_data"
    }
   ],
   "source": [
    "a,b = sps.iirdesign(cutoff, cutoff+width, gpass=3.0, gstop=50.0, analog=False, ftype='ellip')\n",
    "w, gd = sps.group_delay((a,b))\n",
    "pl.plot(w,gd)"
   ]
  },
  {
   "cell_type": "code",
   "execution_count": 19,
   "metadata": {},
   "outputs": [
    {
     "ename": "ValueError",
     "evalue": "bessel does not have order selection. Use iirfilter function.",
     "output_type": "error",
     "traceback": [
      "\u001b[0;31m---------------------------------------------------------------------------\u001b[0m",
      "\u001b[0;31mIndexError\u001b[0m                                Traceback (most recent call last)",
      "\u001b[0;32m~/anaconda3/envs/geomagenv36/lib/python3.6/site-packages/scipy/signal/filter_design.py\u001b[0m in \u001b[0;36miirdesign\u001b[0;34m(wp, ws, gpass, gstop, analog, ftype, output)\u001b[0m\n\u001b[1;32m   1704\u001b[0m     \u001b[0;32mtry\u001b[0m\u001b[0;34m:\u001b[0m\u001b[0;34m\u001b[0m\u001b[0m\n\u001b[0;32m-> 1705\u001b[0;31m         \u001b[0mordfunc\u001b[0m \u001b[0;34m=\u001b[0m \u001b[0mfilter_dict\u001b[0m\u001b[0;34m[\u001b[0m\u001b[0mftype\u001b[0m\u001b[0;34m]\u001b[0m\u001b[0;34m[\u001b[0m\u001b[0;36m1\u001b[0m\u001b[0;34m]\u001b[0m\u001b[0;34m\u001b[0m\u001b[0m\n\u001b[0m\u001b[1;32m   1706\u001b[0m     \u001b[0;32mexcept\u001b[0m \u001b[0mKeyError\u001b[0m\u001b[0;34m:\u001b[0m\u001b[0;34m\u001b[0m\u001b[0m\n",
      "\u001b[0;31mIndexError\u001b[0m: list index out of range",
      "\nDuring handling of the above exception, another exception occurred:\n",
      "\u001b[0;31mValueError\u001b[0m                                Traceback (most recent call last)",
      "\u001b[0;32m<ipython-input-19-2193337a950a>\u001b[0m in \u001b[0;36m<module>\u001b[0;34m()\u001b[0m\n\u001b[0;32m----> 1\u001b[0;31m \u001b[0ma\u001b[0m\u001b[0;34m,\u001b[0m\u001b[0mb\u001b[0m \u001b[0;34m=\u001b[0m \u001b[0msps\u001b[0m\u001b[0;34m.\u001b[0m\u001b[0miirdesign\u001b[0m\u001b[0;34m(\u001b[0m\u001b[0mcutoff\u001b[0m\u001b[0;34m,\u001b[0m \u001b[0mcutoff\u001b[0m\u001b[0;34m+\u001b[0m\u001b[0mwidth\u001b[0m\u001b[0;34m,\u001b[0m \u001b[0mgpass\u001b[0m\u001b[0;34m=\u001b[0m\u001b[0;36m3.0\u001b[0m\u001b[0;34m,\u001b[0m \u001b[0mgstop\u001b[0m\u001b[0;34m=\u001b[0m\u001b[0;36m50.0\u001b[0m\u001b[0;34m,\u001b[0m \u001b[0manalog\u001b[0m\u001b[0;34m=\u001b[0m\u001b[0;32mFalse\u001b[0m\u001b[0;34m,\u001b[0m \u001b[0mftype\u001b[0m\u001b[0;34m=\u001b[0m\u001b[0;34m'bessel'\u001b[0m\u001b[0;34m)\u001b[0m\u001b[0;34m\u001b[0m\u001b[0m\n\u001b[0m\u001b[1;32m      2\u001b[0m \u001b[0mw\u001b[0m\u001b[0;34m,\u001b[0m \u001b[0mgd\u001b[0m \u001b[0;34m=\u001b[0m \u001b[0msps\u001b[0m\u001b[0;34m.\u001b[0m\u001b[0mgroup_delay\u001b[0m\u001b[0;34m(\u001b[0m\u001b[0;34m(\u001b[0m\u001b[0ma\u001b[0m\u001b[0;34m,\u001b[0m\u001b[0mb\u001b[0m\u001b[0;34m)\u001b[0m\u001b[0;34m)\u001b[0m\u001b[0;34m\u001b[0m\u001b[0m\n\u001b[1;32m      3\u001b[0m \u001b[0mpl\u001b[0m\u001b[0;34m.\u001b[0m\u001b[0mplot\u001b[0m\u001b[0;34m(\u001b[0m\u001b[0mw\u001b[0m\u001b[0;34m,\u001b[0m\u001b[0mgd\u001b[0m\u001b[0;34m)\u001b[0m\u001b[0;34m\u001b[0m\u001b[0m\n",
      "\u001b[0;32m~/anaconda3/envs/geomagenv36/lib/python3.6/site-packages/scipy/signal/filter_design.py\u001b[0m in \u001b[0;36miirdesign\u001b[0;34m(wp, ws, gpass, gstop, analog, ftype, output)\u001b[0m\n\u001b[1;32m   1708\u001b[0m     \u001b[0;32mexcept\u001b[0m \u001b[0mIndexError\u001b[0m\u001b[0;34m:\u001b[0m\u001b[0;34m\u001b[0m\u001b[0m\n\u001b[1;32m   1709\u001b[0m         raise ValueError((\"%s does not have order selection. Use \"\n\u001b[0;32m-> 1710\u001b[0;31m                           \"iirfilter function.\") % ftype)\n\u001b[0m\u001b[1;32m   1711\u001b[0m \u001b[0;34m\u001b[0m\u001b[0m\n\u001b[1;32m   1712\u001b[0m     \u001b[0mwp\u001b[0m \u001b[0;34m=\u001b[0m \u001b[0matleast_1d\u001b[0m\u001b[0;34m(\u001b[0m\u001b[0mwp\u001b[0m\u001b[0;34m)\u001b[0m\u001b[0;34m\u001b[0m\u001b[0m\n",
      "\u001b[0;31mValueError\u001b[0m: bessel does not have order selection. Use iirfilter function."
     ]
    }
   ],
   "source": [
    "a,b = sps.iirdesign(cutoff, cutoff+width, gpass=3.0, gstop=50.0, analog=False, ftype='bessel')\n",
    "w, gd = sps.group_delay((a,b))\n",
    "pl.plot(w,gd)"
   ]
  },
  {
   "cell_type": "code",
   "execution_count": 160,
   "metadata": {},
   "outputs": [
    {
     "data": {
      "text/plain": [
       "0.011920928955078125"
      ]
     },
     "execution_count": 160,
     "metadata": {},
     "output_type": "execute_result"
    }
   ],
   "source": [
    "200000/(2.0**24)"
   ]
  },
  {
   "cell_type": "code",
   "execution_count": 18,
   "metadata": {},
   "outputs": [
    {
     "data": {
      "text/plain": [
       "(512,)"
      ]
     },
     "execution_count": 18,
     "metadata": {},
     "output_type": "execute_result"
    }
   ],
   "source": [
    "w.shape"
   ]
  },
  {
   "cell_type": "code",
   "execution_count": 20,
   "metadata": {},
   "outputs": [],
   "source": [
    "a = EdgeFactory(cwbhost=\"166.154.45.158\", host=\"166.154.45.158\")"
   ]
  },
  {
   "cell_type": "code",
   "execution_count": 26,
   "metadata": {},
   "outputs": [],
   "source": [
    "temp = a.get_timeseries(channels=['UK2'], starttime=UTCDateTime(\"2018-09-11T21:45:00Z\"), endtime=UTCDateTime(\"2018-09-11T21:50:00Z\"), observatory=\"GXX\", type=\"variation\", interval=\"minute\")"
   ]
  },
  {
   "cell_type": "code",
   "execution_count": 27,
   "metadata": {},
   "outputs": [
    {
     "data": {
      "text/plain": [
       "1 Trace(s) in Stream:\n",
       "NT.GXX.R0.UK2 | 2018-09-11T21:44:54.240000Z - 2018-09-11T21:49:53.640000Z | 59.9 s, 6 samples"
      ]
     },
     "execution_count": 27,
     "metadata": {},
     "output_type": "execute_result"
    }
   ],
   "source": [
    "temp"
   ]
  },
  {
   "cell_type": "code",
   "execution_count": 28,
   "metadata": {},
   "outputs": [
    {
     "data": {
      "image/png": "[encoded data removed]",
      "text/plain": [
       "<Figure size 800x250 with 1 Axes>"
      ]
     },
     "metadata": {
      "needs_background": "light"
     },
     "output_type": "display_data"
    }
   ],
   "source": [
    "temp.plot()"
   ]
  },
  {
   "cell_type": "code",
   "execution_count": 29,
   "metadata": {},
   "outputs": [],
   "source": [
    "b = temp[0]"
   ]
  },
  {
   "cell_type": "code",
   "execution_count": 30,
   "metadata": {},
   "outputs": [
    {
     "data": {
      "text/plain": [
       "array([  0.  ,  59.88, 119.76, 179.64, 239.52, 299.4 ])"
      ]
     },
     "execution_count": 30,
     "metadata": {},
     "output_type": "execute_result"
    }
   ],
   "source": [
    "b.times()"
   ]
  },
  {
   "cell_type": "code",
   "execution_count": 31,
   "metadata": {},
   "outputs": [
    {
     "data": {
      "text/plain": [
       "0.016666666666666666"
      ]
     },
     "execution_count": 31,
     "metadata": {},
     "output_type": "execute_result"
    }
   ],
   "source": [
    "1/60"
   ]
  },
  {
   "cell_type": "code",
   "execution_count": 32,
   "metadata": {},
   "outputs": [],
   "source": [
    "c = EdgeFactory()"
   ]
  },
  {
   "cell_type": "code",
   "execution_count": 39,
   "metadata": {},
   "outputs": [
    {
     "name": "stderr",
     "output_type": "stream",
     "text": [
      "read_wave_server_v returned flag FR - requested data right (later) than tank contents\n"
     ]
    }
   ],
   "source": [
    "brt = c.get_timeseries(channels=['UK1'], starttime=UTCDateTime(\"2018-09-11T21:45:00Z\"), endtime=UTCDateTime(\"2018-09-11T21:50:00Z\"), observatory=\"BRT\", type=\"variation\", interval=\"minute\")"
   ]
  },
  {
   "cell_type": "code",
   "execution_count": 34,
   "metadata": {},
   "outputs": [
    {
     "data": {
      "text/plain": [
       "array([  0.  ,  59.88, 119.76, 179.64, 239.52, 299.4 ])"
      ]
     },
     "execution_count": 34,
     "metadata": {},
     "output_type": "execute_result"
    }
   ],
   "source": [
    "brt[0].times()"
   ]
  },
  {
   "cell_type": "code",
   "execution_count": 40,
   "metadata": {},
   "outputs": [],
   "source": [
    "dht = c.get_timeseries(channels=['MVH'], starttime=UTCDateTime(\"2018-09-10T21:45:00Z\"), endtime=UTCDateTime(\"2018-09-10T21:50:00Z\"), observatory=\"DHT\", type=\"variation\", interval=\"minute\")"
   ]
  },
  {
   "cell_type": "code",
   "execution_count": 41,
   "metadata": {},
   "outputs": [
    {
     "data": {
      "text/plain": [
       "array([  0.,  60., 120., 180., 240., 300.])"
      ]
     },
     "execution_count": 41,
     "metadata": {},
     "output_type": "execute_result"
    }
   ],
   "source": [
    "dht[0].times()"
   ]
  },
  {
   "cell_type": "code",
   "execution_count": null,
   "metadata": {},
   "outputs": [],
   "source": []
  }
 ],
 "metadata": {
  "kernelspec": {
   "display_name": "Python (geomagenv36)",
   "language": "python",
   "name": "geomagenv36"
  },
  "language_info": {
   "codemirror_mode": {
    "name": "ipython",
    "version": 3
   },
   "file_extension": ".py",
   "mimetype": "text/x-python",
   "name": "python",
   "nbconvert_exporter": "python",
   "pygments_lexer": "ipython3",
   "version": "3.6.6"
  }
 },
 "nbformat": 4,
 "nbformat_minor": 2
}
